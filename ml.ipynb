{
  "cells": [
    {
      "cell_type": "markdown",
      "metadata": {
        "colab_type": "text",
        "id": "ZdzWuIuVztZW"
      },
      "source": [
        "# Acquiring data set"
      ]
    },
    {
      "cell_type": "code",
      "execution_count": null,
      "metadata": {
        "colab": {},
        "colab_type": "code",
        "id": "Aiw6KBUnJprN",
        "vscode": {
          "languageId": "python"
        }
      },
      "outputs": [],
      "source": [
        "!wget https://www.itl.nist.gov/iaui/vip/cs_links/EMNIST/gzip.zip\n",
        "!unzip gzip.zip \n",
        "!rm gzip.zip\n",
        "!pip install python-mnist"
      ]
    },
    {
      "cell_type": "markdown",
      "metadata": {
        "colab_type": "text",
        "id": "2zq5Ha8WJpEQ"
      },
      "source": [
        "Source: https://www.nist.gov/node/1298471/emnist-dataset"
      ]
    },
    {
      "cell_type": "markdown",
      "metadata": {
        "colab_type": "text",
        "id": "9O5MTk2Iz6QE"
      },
      "source": [
        "# Preparing data set"
      ]
    },
    {
      "cell_type": "code",
      "execution_count": null,
      "metadata": {
        "colab": {},
        "colab_type": "code",
        "id": "OCiHOtX_J77D",
        "vscode": {
          "languageId": "python"
        }
      },
      "outputs": [],
      "source": [
        "import numpy as np\n",
        "from sklearn.utils.class_weight import compute_class_weight\n",
        "import tensorflow as tf\n",
        "from tensorflow.keras.models import Sequential\n",
        "from tensorflow.keras.layers import Convolution2D, MaxPooling2D, BatchNormalization, Flatten, Dropout, Dense\n",
        "from mnist import MNIST\n",
        "import os"
      ]
    },
    {
      "cell_type": "code",
      "execution_count": null,
      "metadata": {
        "colab": {},
        "colab_type": "code",
        "id": "YS-MvaU7uekd",
        "vscode": {
          "languageId": "python"
        }
      },
      "outputs": [],
      "source": [
        "# load the entire EMNIST dataset as numpy arrays (this might take a while)\n",
        "emnist_data = MNIST(path='gzip', return_type='numpy')\n",
        "emnist_data.select_emnist('byclass')\n",
        "x_train, y_train = emnist_data.load_training()\n",
        "x_test, y_test = emnist_data.load_testing()"
      ]
    },
    {
      "cell_type": "code",
      "execution_count": null,
      "metadata": {
        "colab": {},
        "colab_type": "code",
        "id": "JVNkttOAwDHc",
        "vscode": {
          "languageId": "python"
        }
      },
      "outputs": [],
      "source": [
        "x_train.shape, y_train.shape, x_test.shape, y_test.shape"
      ]
    },
    {
      "cell_type": "code",
      "execution_count": null,
      "metadata": {
        "colab": {},
        "colab_type": "code",
        "id": "TzwkstkWvr8k",
        "vscode": {
          "languageId": "python"
        }
      },
      "outputs": [],
      "source": [
        "img_side = 28\n",
        "\n",
        "# Reshape tensors to [n, y, x, 1] and normalize the pixel values between [0, 1]\n",
        "x_train = x_train.reshape(-1, img_side, img_side, 1).astype('float32') / 255.0\n",
        "x_test = x_test.reshape(-1, img_side, img_side, 1).astype('float32') / 255.0\n",
        "\n",
        "x_train.shape, x_test.shape"
      ]
    },
    {
      "cell_type": "code",
      "execution_count": null,
      "metadata": {
        "colab": {},
        "colab_type": "code",
        "id": "mv3F3j4HgUaE",
        "vscode": {
          "languageId": "python"
        }
      },
      "outputs": [],
      "source": [
        "# get number of classes\n",
        "unique_classes = np.unique(y_train)\n",
        "num_classes = len(unique_classes)\n",
        "\n",
        "input_shape = (img_side, img_side, 1)\n",
        "\n",
        "# weight the classes (to combat the imbalance)\n",
        "class_weights = dict(enumerate(compute_class_weight('balanced', unique_classes, y_train)))\n",
        "\n",
        "# Convert class vectors to binary class matrices\n",
        "y_train = tf.keras.utils.to_categorical(y_train, num_classes)\n",
        "y_test = tf.keras.utils.to_categorical(y_test, num_classes)"
      ]
    },
    {
      "cell_type": "markdown",
      "metadata": {
        "colab_type": "text",
        "id": "fW3npbXnz-Yt"
      },
      "source": [
        "# Create model"
      ]
    },
    {
      "cell_type": "code",
      "execution_count": null,
      "metadata": {
        "colab": {},
        "colab_type": "code",
        "id": "BBa-KONLdD9U",
        "vscode": {
          "languageId": "python"
        }
      },
      "outputs": [],
      "source": [
        "kernel_size = (5, 5)\n",
        "def createmodel():\n",
        "    return Sequential([\n",
        "        Convolution2D(16, kernel_size=kernel_size, padding='same', input_shape=input_shape, activation='relu'),\n",
        "        MaxPooling2D(pool_size=(2, 2)),\n",
        "        BatchNormalization(),\n",
        "        Dropout(0.4),\n",
        "        Convolution2D(32, kernel_size=kernel_size, padding='same', activation= 'relu'), #strides=2,\n",
        "        MaxPooling2D(pool_size=(2, 2)),\n",
        "        BatchNormalization(),\n",
        "        Dropout(0.4),\n",
        "        Convolution2D(64, kernel_size=kernel_size, padding='same', activation= 'relu'),\n",
        "        MaxPooling2D(pool_size =(2,2)),\n",
        "        BatchNormalization(),\n",
        "        Dropout(0.4),\n",
        "        Flatten(),\n",
        "        Dense(256, activation='relu'),\n",
        "        BatchNormalization(),\n",
        "        Dropout(0.4),\n",
        "        Dense(num_classes, activation='softmax'),\n",
        "    ])"
      ]
    },
    {
      "cell_type": "code",
      "execution_count": null,
      "metadata": {
        "colab": {},
        "colab_type": "code",
        "id": "yZUPvdQogxL6",
        "vscode": {
          "languageId": "python"
        }
      },
      "outputs": [],
      "source": [
        "# setting up model to run on cpu, or gpu when avaiable\n",
        "model = createmodel()\n",
        "model.compile(loss=\"categorical_crossentropy\",\n",
        "        optimizer=\"adam\",\n",
        "        metrics=[\"accuracy\"])"
      ]
    },
    {
      "cell_type": "code",
      "execution_count": null,
      "metadata": {
        "colab": {},
        "colab_type": "code",
        "id": "zXwnmXzzuwUe",
        "vscode": {
          "languageId": "python"
        }
      },
      "outputs": [],
      "source": [
        "model.summary()\n",
        "tf.keras.utils.plot_model(model, show_shapes=True)"
      ]
    },
    {
      "cell_type": "markdown",
      "metadata": {
        "colab_type": "text",
        "id": "xgot5Yyu0Fkw"
      },
      "source": [
        "# Train model"
      ]
    },
    {
      "cell_type": "code",
      "execution_count": null,
      "metadata": {
        "colab": {},
        "colab_type": "code",
        "id": "0CTRnNpLs2hg",
        "vscode": {
          "languageId": "python"
        }
      },
      "outputs": [],
      "source": [
        "es = tf.keras.callbacks.EarlyStopping(\n",
        "    monitor='val_loss',\n",
        "    mode='min',\n",
        "    verbose=1,\n",
        "    patience=10,\n",
        "    restore_best_weights=True)"
      ]
    },
    {
      "cell_type": "code",
      "execution_count": null,
      "metadata": {
        "colab": {},
        "colab_type": "code",
        "id": "ryc_Vx-ugx3q",
        "vscode": {
          "languageId": "python"
        }
      },
      "outputs": [],
      "source": [
        "model.fit(x_train, y_train,\n",
        "          #class_weight=class_weights,\n",
        "          batch_size=10000,\n",
        "          epochs=200,\n",
        "          verbose=1,\n",
        "          shuffle=True,\n",
        "          validation_data=(x_test, y_test),\n",
        "          callbacks=[es])"
      ]
    },
    {
      "cell_type": "markdown",
      "metadata": {
        "colab_type": "text",
        "id": "SJGawrBZ0Ke0"
      },
      "source": [
        "# Evaluate model"
      ]
    },
    {
      "cell_type": "code",
      "execution_count": null,
      "metadata": {
        "colab": {},
        "colab_type": "code",
        "id": "6fKg6PqEkyLB",
        "vscode": {
          "languageId": "python"
        }
      },
      "outputs": [],
      "source": [
        "score = model.evaluate(x_test, y_test, verbose=1)\n",
        "print('Test loss:', score[0])\n",
        "print('Test accuracy:', score[1])"
      ]
    },
    {
      "cell_type": "code",
      "execution_count": null,
      "metadata": {
        "colab": {},
        "colab_type": "code",
        "id": "Kjqz0VTKmj7L",
        "vscode": {
          "languageId": "python"
        }
      },
      "outputs": [],
      "source": [
        "import matplotlib.pyplot as plt\n",
        "def plotres(x, metric):\n",
        "    plt.plot(model.history.history[metric])\n",
        "    plt.plot(model.history.history['val_'+metric])\n",
        "    plt.title(metric.upper())\n",
        "    plt.ylabel(metric)\n",
        "    plt.xlabel('Epoch')\n",
        "    plt.legend(['Train', 'Validation'])\n",
        "    plt.show()\n",
        "\n",
        "plotres(model.history.history, \"acc\")\n",
        "plotres(model.history.history, \"loss\")"
      ]
    },
    {
      "cell_type": "code",
      "execution_count": null,
      "metadata": {
        "colab": {},
        "colab_type": "code",
        "id": "DfSIKn45xUj-",
        "vscode": {
          "languageId": "python"
        }
      },
      "outputs": [],
      "source": [
        "y_pred = model.predict(x_test)"
      ]
    },
    {
      "cell_type": "code",
      "execution_count": null,
      "metadata": {
        "colab": {},
        "colab_type": "code",
        "id": "IHQsUNI9QZWN",
        "vscode": {
          "languageId": "python"
        }
      },
      "outputs": [],
      "source": [
        "import seaborn as sns\n",
        "import matplotlib.pyplot as plt\n",
        "import string\n",
        "from sklearn.metrics import confusion_matrix\n",
        "from sklearn.utils.multiclass import unique_labels"
      ]
    },
    {
      "cell_type": "code",
      "execution_count": null,
      "metadata": {
        "colab": {},
        "colab_type": "code",
        "id": "GOo-zuuKxZCc",
        "vscode": {
          "languageId": "python"
        }
      },
      "outputs": [],
      "source": [
        "labels = string.digits+string.ascii_lowercase+string.ascii_uppercase\n",
        "plt.subplots(figsize=(20,20))\n",
        "sns.heatmap(confusion_matrix(np.argmax(y_test, axis=1), np.argmax(y_pred, axis=1)), xticklabels=labels, yticklabels=labels)"
      ]
    },
    {
      "cell_type": "markdown",
      "metadata": {
        "colab_type": "text",
        "id": "D0UJBdeX0Opz"
      },
      "source": [
        "# Convert model to Javascript"
      ]
    },
    {
      "cell_type": "code",
      "execution_count": null,
      "metadata": {
        "colab": {},
        "colab_type": "code",
        "id": "0kj_LrqGwchm",
        "vscode": {
          "languageId": "python"
        }
      },
      "outputs": [],
      "source": [
        "model.save(\"cnn_emnist.h5\")"
      ]
    },
    {
      "cell_type": "code",
      "execution_count": null,
      "metadata": {
        "colab": {},
        "colab_type": "code",
        "id": "6z5s_xUD06VZ",
        "vscode": {
          "languageId": "python"
        }
      },
      "outputs": [],
      "source": [
        "!pip install tensorflowjs"
      ]
    },
    {
      "cell_type": "code",
      "execution_count": null,
      "metadata": {
        "colab": {},
        "colab_type": "code",
        "id": "DhwgPcuw1JZ-",
        "vscode": {
          "languageId": "python"
        }
      },
      "outputs": [],
      "source": [
        "!rm -rf jsmodel/\n",
        "!tensorflowjs_converter --input_format keras \"cnn_emnist.h5\" ./jsmodel\n",
        "!zip -r jsmodel.zip jsmodel/"
      ]
    },
    {
      "cell_type": "markdown",
      "metadata": {
        "colab_type": "text",
        "id": "cxRvFhn80ji4"
      },
      "source": [
        "The JavaScript ready model is now available for download in the files panel (jsmodel.zip)"
      ]
    },
    {
      "cell_type": "code",
      "execution_count": null,
      "metadata": {
        "colab": {},
        "colab_type": "code",
        "id": "ZysEPrqj0rF5",
        "vscode": {
          "languageId": "python"
        }
      },
      "outputs": [],
      "source": []
    }
  ],
  "metadata": {
    "accelerator": "GPU",
    "colab": {
      "collapsed_sections": [],
      "machine_shape": "hm",
      "name": "EMNISTKeras_class.ipynb",
      "provenance": [],
      "toc_visible": true
    },
    "kernelspec": {
      "display_name": "Python 3",
      "name": "python3"
    }
  },
  "nbformat": 4,
  "nbformat_minor": 0
}
